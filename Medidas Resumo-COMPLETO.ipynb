{
 "cells": [
  {
   "cell_type": "markdown",
   "metadata": {},
   "source": [
    "# Medidas resumo\n",
    "\n",
    "Vamos observar alguns exemplos de medidas resumo (média, mediana, desvio padrão, etc.) em alguns conjuntos de dados."
   ]
  },
  {
   "cell_type": "code",
   "execution_count": 1,
   "metadata": {},
   "outputs": [
    {
     "name": "stderr",
     "output_type": "stream",
     "text": [
      "/home/toshi/anaconda3/lib/python3.6/site-packages/matplotlib/font_manager.py:280: UserWarning: Matplotlib is building the font cache using fc-list. This may take a moment.\n",
      "  'Matplotlib is building the font cache using fc-list. '\n"
     ]
    }
   ],
   "source": [
    "%matplotlib inline\n",
    "import matplotlib.pyplot as plt\n",
    "import pandas as pd\n",
    "import os"
   ]
  },
  {
   "cell_type": "markdown",
   "metadata": {},
   "source": [
    "## Carregando os dados\n",
    "\n",
    "Todos os dados estão no arquivo `dados.csv`. A primeira coluna descreve o conjunto de dados ao qual os dados pertencem. A segunda e terceira colunas são valores de duas variáveis desses conjuntos."
   ]
  },
  {
   "cell_type": "code",
   "execution_count": 2,
   "metadata": {},
   "outputs": [
    {
     "name": "stdout",
     "output_type": "stream",
     "text": [
      "Esperamos trabalhar no diretório\n",
      "/home/toshi/workspace/MedidasResumo\n"
     ]
    }
   ],
   "source": [
    "print('Esperamos trabalhar no diretório')\n",
    "print(os.getcwd())"
   ]
  },
  {
   "cell_type": "code",
   "execution_count": 3,
   "metadata": {},
   "outputs": [
    {
     "data": {
      "text/html": [
       "<div>\n",
       "<style>\n",
       "    .dataframe thead tr:only-child th {\n",
       "        text-align: right;\n",
       "    }\n",
       "\n",
       "    .dataframe thead th {\n",
       "        text-align: left;\n",
       "    }\n",
       "\n",
       "    .dataframe tbody tr th {\n",
       "        vertical-align: top;\n",
       "    }\n",
       "</style>\n",
       "<table border=\"1\" class=\"dataframe\">\n",
       "  <thead>\n",
       "    <tr style=\"text-align: right;\">\n",
       "      <th></th>\n",
       "      <th>dataset</th>\n",
       "      <th>x</th>\n",
       "      <th>y</th>\n",
       "    </tr>\n",
       "  </thead>\n",
       "  <tbody>\n",
       "    <tr>\n",
       "      <th>0</th>\n",
       "      <td>A</td>\n",
       "      <td>32.331110</td>\n",
       "      <td>61.411101</td>\n",
       "    </tr>\n",
       "    <tr>\n",
       "      <th>1</th>\n",
       "      <td>A</td>\n",
       "      <td>53.421463</td>\n",
       "      <td>26.186880</td>\n",
       "    </tr>\n",
       "    <tr>\n",
       "      <th>2</th>\n",
       "      <td>A</td>\n",
       "      <td>63.920202</td>\n",
       "      <td>30.832194</td>\n",
       "    </tr>\n",
       "    <tr>\n",
       "      <th>3</th>\n",
       "      <td>A</td>\n",
       "      <td>70.289506</td>\n",
       "      <td>82.533649</td>\n",
       "    </tr>\n",
       "    <tr>\n",
       "      <th>4</th>\n",
       "      <td>A</td>\n",
       "      <td>34.118830</td>\n",
       "      <td>45.734551</td>\n",
       "    </tr>\n",
       "  </tbody>\n",
       "</table>\n",
       "</div>"
      ],
      "text/plain": [
       "  dataset          x          y\n",
       "0       A  32.331110  61.411101\n",
       "1       A  53.421463  26.186880\n",
       "2       A  63.920202  30.832194\n",
       "3       A  70.289506  82.533649\n",
       "4       A  34.118830  45.734551"
      ]
     },
     "execution_count": 3,
     "metadata": {},
     "output_type": "execute_result"
    }
   ],
   "source": [
    "dados = pd.read_csv('dados.csv')\n",
    "dados.head()"
   ]
  },
  {
   "cell_type": "markdown",
   "metadata": {},
   "source": [
    "Vamos separar os dados nos diferentes conjuntos de dados. Para isso, vamos listar os nomes de todos os diferentes conjuntos."
   ]
  },
  {
   "cell_type": "code",
   "execution_count": 4,
   "metadata": {},
   "outputs": [
    {
     "data": {
      "text/plain": [
       "['A', 'B', 'C', 'D', 'E', 'F', 'G', 'H', 'I', 'J', 'K', 'L', 'M']"
      ]
     },
     "execution_count": 4,
     "metadata": {},
     "output_type": "execute_result"
    }
   ],
   "source": [
    "list(dados.dataset.unique())"
   ]
  },
  {
   "cell_type": "markdown",
   "metadata": {},
   "source": [
    "Vamos trabalhar somente com os conjuntos `A`, `E` e `M`. Como exercício, repita o processo abaixo para todos os outros conjuntos."
   ]
  },
  {
   "cell_type": "code",
   "execution_count": 5,
   "metadata": {
    "collapsed": true
   },
   "outputs": [],
   "source": [
    "conjA = dados[dados.dataset == 'A']\n",
    "conjB = dados[dados.dataset == 'B']\n",
    "conjC = dados[dados.dataset == 'C']\n",
    "conjD = dados[dados.dataset == 'D']\n",
    "conjE = dados[dados.dataset == 'E']\n",
    "conjF = dados[dados.dataset == 'F']\n",
    "conjG = dados[dados.dataset == 'G']\n",
    "conjH = dados[dados.dataset == 'H']\n",
    "conjI = dados[dados.dataset == 'I']\n",
    "conjJ = dados[dados.dataset == 'J']\n",
    "conjK = dados[dados.dataset == 'K']\n",
    "conjL = dados[dados.dataset == 'L']\n",
    "conjM = dados[dados.dataset == 'M']"
   ]
  },
  {
   "cell_type": "markdown",
   "metadata": {},
   "source": [
    "Vejamos agora algumas medidas resumo destes conjuntos de dados. A partir deste ponto vamos trabalhar somente com os conjuntos A, E e M. Repita os testes à seguir para os outros conjuntos."
   ]
  },
  {
   "cell_type": "code",
   "execution_count": 6,
   "metadata": {},
   "outputs": [
    {
     "data": {
      "text/html": [
       "<div>\n",
       "<style>\n",
       "    .dataframe thead tr:only-child th {\n",
       "        text-align: right;\n",
       "    }\n",
       "\n",
       "    .dataframe thead th {\n",
       "        text-align: left;\n",
       "    }\n",
       "\n",
       "    .dataframe tbody tr th {\n",
       "        vertical-align: top;\n",
       "    }\n",
       "</style>\n",
       "<table border=\"1\" class=\"dataframe\">\n",
       "  <thead>\n",
       "    <tr style=\"text-align: right;\">\n",
       "      <th></th>\n",
       "      <th>x</th>\n",
       "      <th>y</th>\n",
       "    </tr>\n",
       "  </thead>\n",
       "  <tbody>\n",
       "    <tr>\n",
       "      <th>count</th>\n",
       "      <td>142.000000</td>\n",
       "      <td>142.000000</td>\n",
       "    </tr>\n",
       "    <tr>\n",
       "      <th>mean</th>\n",
       "      <td>54.266100</td>\n",
       "      <td>47.834721</td>\n",
       "    </tr>\n",
       "    <tr>\n",
       "      <th>std</th>\n",
       "      <td>16.769825</td>\n",
       "      <td>26.939743</td>\n",
       "    </tr>\n",
       "    <tr>\n",
       "      <th>min</th>\n",
       "      <td>15.560750</td>\n",
       "      <td>0.015119</td>\n",
       "    </tr>\n",
       "    <tr>\n",
       "      <th>25%</th>\n",
       "      <td>39.724115</td>\n",
       "      <td>24.625892</td>\n",
       "    </tr>\n",
       "    <tr>\n",
       "      <th>50%</th>\n",
       "      <td>53.340296</td>\n",
       "      <td>47.535269</td>\n",
       "    </tr>\n",
       "    <tr>\n",
       "      <th>75%</th>\n",
       "      <td>69.146597</td>\n",
       "      <td>71.803148</td>\n",
       "    </tr>\n",
       "    <tr>\n",
       "      <th>max</th>\n",
       "      <td>91.639961</td>\n",
       "      <td>97.475771</td>\n",
       "    </tr>\n",
       "  </tbody>\n",
       "</table>\n",
       "</div>"
      ],
      "text/plain": [
       "                x           y\n",
       "count  142.000000  142.000000\n",
       "mean    54.266100   47.834721\n",
       "std     16.769825   26.939743\n",
       "min     15.560750    0.015119\n",
       "25%     39.724115   24.625892\n",
       "50%     53.340296   47.535269\n",
       "75%     69.146597   71.803148\n",
       "max     91.639961   97.475771"
      ]
     },
     "execution_count": 6,
     "metadata": {},
     "output_type": "execute_result"
    }
   ],
   "source": [
    "conjA.describe()"
   ]
  },
  {
   "cell_type": "code",
   "execution_count": 7,
   "metadata": {},
   "outputs": [
    {
     "data": {
      "text/html": [
       "<div>\n",
       "<style>\n",
       "    .dataframe thead tr:only-child th {\n",
       "        text-align: right;\n",
       "    }\n",
       "\n",
       "    .dataframe thead th {\n",
       "        text-align: left;\n",
       "    }\n",
       "\n",
       "    .dataframe tbody tr th {\n",
       "        vertical-align: top;\n",
       "    }\n",
       "</style>\n",
       "<table border=\"1\" class=\"dataframe\">\n",
       "  <thead>\n",
       "    <tr style=\"text-align: right;\">\n",
       "      <th></th>\n",
       "      <th>x</th>\n",
       "      <th>y</th>\n",
       "    </tr>\n",
       "  </thead>\n",
       "  <tbody>\n",
       "    <tr>\n",
       "      <th>count</th>\n",
       "      <td>142.000000</td>\n",
       "      <td>142.000000</td>\n",
       "    </tr>\n",
       "    <tr>\n",
       "      <th>mean</th>\n",
       "      <td>54.267341</td>\n",
       "      <td>47.839545</td>\n",
       "    </tr>\n",
       "    <tr>\n",
       "      <th>std</th>\n",
       "      <td>16.768959</td>\n",
       "      <td>26.930275</td>\n",
       "    </tr>\n",
       "    <tr>\n",
       "      <th>min</th>\n",
       "      <td>27.024603</td>\n",
       "      <td>14.365590</td>\n",
       "    </tr>\n",
       "    <tr>\n",
       "      <th>25%</th>\n",
       "      <td>41.034210</td>\n",
       "      <td>20.374135</td>\n",
       "    </tr>\n",
       "    <tr>\n",
       "      <th>50%</th>\n",
       "      <td>56.534732</td>\n",
       "      <td>50.110554</td>\n",
       "    </tr>\n",
       "    <tr>\n",
       "      <th>75%</th>\n",
       "      <td>68.711493</td>\n",
       "      <td>63.548584</td>\n",
       "    </tr>\n",
       "    <tr>\n",
       "      <th>max</th>\n",
       "      <td>86.435897</td>\n",
       "      <td>92.214989</td>\n",
       "    </tr>\n",
       "  </tbody>\n",
       "</table>\n",
       "</div>"
      ],
      "text/plain": [
       "                x           y\n",
       "count  142.000000  142.000000\n",
       "mean    54.267341   47.839545\n",
       "std     16.768959   26.930275\n",
       "min     27.024603   14.365590\n",
       "25%     41.034210   20.374135\n",
       "50%     56.534732   50.110554\n",
       "75%     68.711493   63.548584\n",
       "max     86.435897   92.214989"
      ]
     },
     "execution_count": 7,
     "metadata": {},
     "output_type": "execute_result"
    }
   ],
   "source": [
    "conjE.describe()"
   ]
  },
  {
   "cell_type": "code",
   "execution_count": 8,
   "metadata": {},
   "outputs": [
    {
     "data": {
      "text/html": [
       "<div>\n",
       "<style>\n",
       "    .dataframe thead tr:only-child th {\n",
       "        text-align: right;\n",
       "    }\n",
       "\n",
       "    .dataframe thead th {\n",
       "        text-align: left;\n",
       "    }\n",
       "\n",
       "    .dataframe tbody tr th {\n",
       "        vertical-align: top;\n",
       "    }\n",
       "</style>\n",
       "<table border=\"1\" class=\"dataframe\">\n",
       "  <thead>\n",
       "    <tr style=\"text-align: right;\">\n",
       "      <th></th>\n",
       "      <th>x</th>\n",
       "      <th>y</th>\n",
       "    </tr>\n",
       "  </thead>\n",
       "  <tbody>\n",
       "    <tr>\n",
       "      <th>count</th>\n",
       "      <td>142.000000</td>\n",
       "      <td>142.000000</td>\n",
       "    </tr>\n",
       "    <tr>\n",
       "      <th>mean</th>\n",
       "      <td>54.263273</td>\n",
       "      <td>47.832253</td>\n",
       "    </tr>\n",
       "    <tr>\n",
       "      <th>std</th>\n",
       "      <td>16.765142</td>\n",
       "      <td>26.935403</td>\n",
       "    </tr>\n",
       "    <tr>\n",
       "      <th>min</th>\n",
       "      <td>22.307700</td>\n",
       "      <td>2.948700</td>\n",
       "    </tr>\n",
       "    <tr>\n",
       "      <th>25%</th>\n",
       "      <td>44.102600</td>\n",
       "      <td>25.288450</td>\n",
       "    </tr>\n",
       "    <tr>\n",
       "      <th>50%</th>\n",
       "      <td>53.333300</td>\n",
       "      <td>46.025600</td>\n",
       "    </tr>\n",
       "    <tr>\n",
       "      <th>75%</th>\n",
       "      <td>64.743600</td>\n",
       "      <td>68.525675</td>\n",
       "    </tr>\n",
       "    <tr>\n",
       "      <th>max</th>\n",
       "      <td>98.205100</td>\n",
       "      <td>99.487200</td>\n",
       "    </tr>\n",
       "  </tbody>\n",
       "</table>\n",
       "</div>"
      ],
      "text/plain": [
       "                x           y\n",
       "count  142.000000  142.000000\n",
       "mean    54.263273   47.832253\n",
       "std     16.765142   26.935403\n",
       "min     22.307700    2.948700\n",
       "25%     44.102600   25.288450\n",
       "50%     53.333300   46.025600\n",
       "75%     64.743600   68.525675\n",
       "max     98.205100   99.487200"
      ]
     },
     "execution_count": 8,
     "metadata": {},
     "output_type": "execute_result"
    }
   ],
   "source": [
    "conjM.describe()"
   ]
  },
  {
   "cell_type": "markdown",
   "metadata": {},
   "source": [
    "Note que todos os conjuntos têm o mesmo número de elementos (142) e as médias e desvios padrão são bastante parecidos."
   ]
  },
  {
   "cell_type": "code",
   "execution_count": 9,
   "metadata": {},
   "outputs": [
    {
     "name": "stdout",
     "output_type": "stream",
     "text": [
      "A diferença entre a média dos conjuntos A e E é:\n",
      "x   -0.001241\n",
      "y   -0.004825\n",
      "dtype: float64\n",
      "\n",
      "A diferença entre a média dos conjuntos E e M é:\n",
      "x    0.004068\n",
      "y    0.007292\n",
      "dtype: float64\n"
     ]
    }
   ],
   "source": [
    "print('A diferença entre a média dos conjuntos A e E é:')\n",
    "print(conjA.mean() - conjE.mean())\n",
    "print('')\n",
    "print('A diferença entre a média dos conjuntos E e M é:')\n",
    "print(conjE.mean() - conjM.mean())"
   ]
  },
  {
   "cell_type": "markdown",
   "metadata": {},
   "source": [
    "Como vimos, a diferença entre as médias e desvios padrão entre os conjuntos é bem pequena (menos do que 0,01, enquanto os valores das médias e desvios padrão estão na ordem de algumas dezenas).\n",
    "\n",
    "Também aprendemos que podemos calcular a covariância e correlação entre duas variáveis."
   ]
  },
  {
   "cell_type": "code",
   "execution_count": 10,
   "metadata": {},
   "outputs": [
    {
     "name": "stdout",
     "output_type": "stream",
     "text": [
      "Covariância entre x e y em A: -28.9715722791\n",
      "Covariância entre x e y em E: -28.4327718562\n",
      "Covariância entre x e y em M: -29.1139326735\n",
      "\n",
      "Covariância entre x e y em A: -0.0641283521547\n",
      "Covariância entre x e y em E: -0.0629611002268\n",
      "Covariância entre x e y em M: -0.064471852701\n"
     ]
    }
   ],
   "source": [
    "print('Covariância entre x e y em A:', conjA.x.cov(conjA.y))\n",
    "print('Covariância entre x e y em E:', conjE.x.cov(conjE.y))\n",
    "print('Covariância entre x e y em M:', conjM.x.cov(conjM.y))\n",
    "print('')\n",
    "print('Covariância entre x e y em A:', conjA.x.corr(conjA.y))\n",
    "print('Covariância entre x e y em E:', conjE.x.corr(conjE.y))\n",
    "print('Covariância entre x e y em M:', conjM.x.corr(conjM.y))"
   ]
  },
  {
   "cell_type": "markdown",
   "metadata": {},
   "source": [
    "Vamos verificar algumas medidas-resumo entre todos os conjuntos."
   ]
  },
  {
   "cell_type": "code",
   "execution_count": 11,
   "metadata": {},
   "outputs": [
    {
     "name": "stdout",
     "output_type": "stream",
     "text": [
      "Conjunto A: Média de X = 54.2661; Média de Y = 47.8347\n",
      "Conjunto B: Média de X = 54.2614; Média de Y = 47.8303\n",
      "Conjunto C: Média de X = 54.2699; Média de Y = 47.8370\n",
      "Conjunto D: Média de X = 54.2602; Média de Y = 47.8397\n",
      "Conjunto E: Média de X = 54.2673; Média de Y = 47.8395\n",
      "Conjunto F: Média de X = 54.2688; Média de Y = 47.8355\n",
      "Conjunto G: Média de X = 54.2603; Média de Y = 47.8398\n",
      "Conjunto H: Média de X = 54.2673; Média de Y = 47.8377\n",
      "Conjunto I: Média de X = 54.2687; Média de Y = 47.8308\n",
      "Conjunto J: Média de X = 54.2659; Média de Y = 47.8315\n",
      "Conjunto K: Média de X = 54.2678; Média de Y = 47.8359\n",
      "Conjunto L: Média de X = 54.2669; Média de Y = 47.8316\n",
      "Conjunto M: Média de X = 54.2633; Média de Y = 47.8323\n",
      "\n",
      "Conjunto A: Desvio padrão de X = 16.7698; Desvio padrão de Y = 26.9397\n",
      "Conjunto B: Desvio padrão de X = 16.7659; Desvio padrão de Y = 26.9399\n",
      "Conjunto C: Desvio padrão de X = 16.7700; Desvio padrão de Y = 26.9377\n",
      "Conjunto D: Desvio padrão de X = 16.7700; Desvio padrão de Y = 26.9300\n",
      "Conjunto E: Desvio padrão de X = 16.7690; Desvio padrão de Y = 26.9303\n",
      "Conjunto F: Desvio padrão de X = 16.7667; Desvio padrão de Y = 26.9400\n",
      "Conjunto G: Desvio padrão de X = 16.7677; Desvio padrão de Y = 26.9302\n",
      "Conjunto H: Desvio padrão de X = 16.7600; Desvio padrão de Y = 26.9300\n",
      "Conjunto I: Desvio padrão de X = 16.7692; Desvio padrão de Y = 26.9357\n",
      "Conjunto J: Desvio padrão de X = 16.7689; Desvio padrão de Y = 26.9386\n",
      "Conjunto K: Desvio padrão de X = 16.7668; Desvio padrão de Y = 26.9361\n",
      "Conjunto L: Desvio padrão de X = 16.7700; Desvio padrão de Y = 26.9379\n",
      "Conjunto M: Desvio padrão de X = 16.7651; Desvio padrão de Y = 26.9354\n",
      "\n",
      "Conjunto A: Correlação entre X e Y = -0.0641\n",
      "Conjunto B: Correlação entre X e Y = -0.0617\n",
      "Conjunto C: Correlação entre X e Y = -0.0694\n",
      "Conjunto D: Correlação entre X e Y = -0.0656\n",
      "Conjunto E: Correlação entre X e Y = -0.0630\n",
      "Conjunto F: Correlação entre X e Y = -0.0685\n",
      "Conjunto G: Correlação entre X e Y = -0.0603\n",
      "Conjunto H: Correlação entre X e Y = -0.0683\n",
      "Conjunto I: Correlação entre X e Y = -0.0686\n",
      "Conjunto J: Correlação entre X e Y = -0.0686\n",
      "Conjunto K: Correlação entre X e Y = -0.0690\n",
      "Conjunto L: Correlação entre X e Y = -0.0666\n",
      "Conjunto M: Correlação entre X e Y = -0.0645\n",
      "\n"
     ]
    }
   ],
   "source": [
    "# Criando um dicionário com todos os conjuntos para facilitar\n",
    "nomes = list('ABCDEFGHIJKLM')\n",
    "conjuntos = {nome: dados[dados.dataset == nome] for nome in nomes}\n",
    "\n",
    "# Imprimindo médias\n",
    "for nome in nomes:\n",
    "    print('Conjunto {}: Média de X = {:3.4f}; Média de Y = {:3.4f}'.format(\n",
    "        nome, conjuntos[nome].x.mean(), conjuntos[nome].y.mean()\n",
    "    ))\n",
    "print()\n",
    "\n",
    "# Imprimindo desvios padrão\n",
    "for nome in nomes:\n",
    "    print('Conjunto {}: Desvio padrão de X = {:3.4f}; Desvio padrão de Y = {:3.4f}'.format(\n",
    "        nome, conjuntos[nome].x.std(), conjuntos[nome].y.std()\n",
    "    ))\n",
    "print()\n",
    "\n",
    "# Imprimindo coeficientes de correlação\n",
    "for nome in nomes:\n",
    "    print('Conjunto {}: Correlação entre X e Y = {:3.4f}'.format(\n",
    "        nome, conjuntos[nome].x.corr(conjuntos[nome].y)\n",
    "    ))\n",
    "print()"
   ]
  },
  {
   "cell_type": "markdown",
   "metadata": {},
   "source": [
    "Podemos concluir então que os conjuntos são bastante parecidos, certo?\n",
    "\n",
    "## Visualizando os dados\n",
    "\n",
    "Vamos visualizar os nossos conjuntos de dados. Para isso vamos utilizar o gráfico de dispersão. Cada amostra é apresentada como um ponto de coordenadas `x` e `y`."
   ]
  },
  {
   "cell_type": "code",
   "execution_count": 12,
   "metadata": {},
   "outputs": [
    {
     "data": {
      "image/png": "[encoded data removed]",
      "text/plain": [
       "<matplotlib.figure.Figure at 0x7f40b0167320>"
      ]
     },
     "metadata": {},
     "output_type": "display_data"
    }
   ],
   "source": [
    "fig = plt.figure(figsize=(16, 8))\n",
    "\n",
    "for i, nome in enumerate(nomes):\n",
    "    conj = conjuntos[nome]\n",
    "    plt.subplot(3, 5, 1 + i)\n",
    "    plt.scatter(conj.x, conj.y)\n",
    "    plt.title('Conjunto {0}'.format(nome))\n",
    "\n",
    "plt.tight_layout()\n",
    "plt.show()"
   ]
  },
  {
   "cell_type": "markdown",
   "metadata": {},
   "source": [
    "Gere os gráficos para os outros conjuntos de dados. O que podemos aprender sobre o processo de exploração de dados a partir deste exemplo?"
   ]
  },
  {
   "cell_type": "markdown",
   "metadata": {},
   "source": [
    "Os dados utilizados neste notebook foram gerados por Justin Matejka e George Fitzmaurice, da Autodesk Research, e publicados na ACM SIGCHI Conference on Human Factors in Computing Systems 2017. Mais informações em: https://www.autodeskresearch.com/publications/samestats\n",
    "\n",
    "## Referência\n",
    "\n",
    "    Justin Matejka e George Fitzmaurice. 2017. Same Stats, Different Graphs: Generating Datasets with Varied Appearance and Identical Statistics through Simulated Annealing. Em Proceedings of the 2017 CHI Conference on Human Factors in Computing Systems (CHI '17). ACM, New York, NY, USA, 1290-1294."
   ]
  }
 ],
 "metadata": {
  "kernelspec": {
   "display_name": "Python 3",
   "language": "python",
   "name": "python3"
  },
  "language_info": {
   "codemirror_mode": {
    "name": "ipython",
    "version": 3
   },
   "file_extension": ".py",
   "mimetype": "text/x-python",
   "name": "python",
   "nbconvert_exporter": "python",
   "pygments_lexer": "ipython3",
   "version": "3.6.1"
  }
 },
 "nbformat": 4,
 "nbformat_minor": 2
}
